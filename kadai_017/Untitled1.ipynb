{
  "nbformat": 4,
  "nbformat_minor": 0,
  "metadata": {
    "colab": {
      "provenance": [],
      "toc_visible": true
    },
    "kernelspec": {
      "name": "python3",
      "display_name": "Python 3"
    },
    "language_info": {
      "name": "python"
    }
  },
  "cells": [
    {
      "cell_type": "code",
      "execution_count": null,
      "metadata": {
        "id": "gB3SKHlx2BkK"
      },
      "outputs": [],
      "source": [
        "AGE=18  # 年齢"
      ]
    },
    {
      "cell_type": "code",
      "source": [],
      "metadata": {
        "id": "qT9VzG04eRsf"
      },
      "execution_count": null,
      "outputs": []
    },
    {
      "cell_type": "code",
      "source": [],
      "metadata": {
        "id": "SIMPhmPneJkX"
      },
      "execution_count": null,
      "outputs": []
    },
    {
      "cell_type": "code",
      "source": [],
      "metadata": {
        "id": "wtOb7XQgeKgB"
      },
      "execution_count": null,
      "outputs": []
    },
    {
      "cell_type": "code",
      "source": [
        "user"
      ],
      "metadata": {
        "id": "P7lH6qTueMO0"
      },
      "execution_count": null,
      "outputs": []
    },
    {
      "cell_type": "code",
      "source": [
        "age = 20  # 年齢\n",
        "\n",
        "if age < 20:\n",
        "    # 未成年の場合\n",
        "    print(\"ジュースで乾杯！\")\n",
        "else:\n",
        "    # 青年の場合\n",
        "    print(\"お酒で乾杯！\")\n"
      ],
      "metadata": {
        "colab": {
          "base_uri": "https://localhost:8080/"
        },
        "id": "LqCOuyNh23Gf",
        "outputId": "85f63499-3443-455a-d522-9ced5932e9d8"
      },
      "execution_count": null,
      "outputs": [
        {
          "output_type": "stream",
          "name": "stdout",
          "text": [
            "お酒で乾杯！\n"
          ]
        }
      ]
    },
    {
      "cell_type": "markdown",
      "source": [],
      "metadata": {
        "id": "EbO3B6tT6PBI"
      }
    },
    {
      "cell_type": "code",
      "source": [
        "print('こんにちは')\n",
        "print(\"今日はいい天気ですね\")"
      ],
      "metadata": {
        "colab": {
          "base_uri": "https://localhost:8080/"
        },
        "id": "LnKk9DGO5tE5",
        "outputId": "90071267-cf57-4803-e9f6-a655e062ba4c"
      },
      "execution_count": null,
      "outputs": [
        {
          "output_type": "stream",
          "name": "stdout",
          "text": [
            "こんにちは\n",
            "今日はいい天気ですね\n"
          ]
        }
      ]
    },
    {
      "cell_type": "code",
      "source": [
        "print(100)"
      ],
      "metadata": {
        "colab": {
          "base_uri": "https://localhost:8080/"
        },
        "id": "TAP6LIU36JQA",
        "outputId": "8dd4c9e2-c2a7-4087-de06-4646c6321a9b"
      },
      "execution_count": null,
      "outputs": [
        {
          "output_type": "stream",
          "name": "stdout",
          "text": [
            "100\n"
          ]
        }
      ]
    },
    {
      "cell_type": "code",
      "source": [
        "print(45 + 18)\n",
        "print(30 - 12)\n",
        "print(15 * 6)\n",
        "print(30 / 3)\n",
        "print(45 % 8)"
      ],
      "metadata": {
        "colab": {
          "base_uri": "https://localhost:8080/"
        },
        "id": "WEHhuMB13BBo",
        "outputId": "3103625e-6bd6-4ecc-aebd-9f20216746c1"
      },
      "execution_count": null,
      "outputs": [
        {
          "output_type": "stream",
          "name": "stdout",
          "text": [
            "63\n",
            "18\n",
            "90\n",
            "10.0\n",
            "5\n"
          ]
        }
      ]
    },
    {
      "cell_type": "code",
      "source": [
        "print(45 + 1.8)\n",
        "print(3 - 1.2)\n",
        "print(15 * 0.6)\n",
        "print(30 / 0.3)\n",
        "print(45 % 0.8)"
      ],
      "metadata": {
        "colab": {
          "base_uri": "https://localhost:8080/"
        },
        "id": "0BxolKcH2vaF",
        "outputId": "866ae8dd-1447-4198-c119-9c54990be424"
      },
      "execution_count": null,
      "outputs": [
        {
          "output_type": "stream",
          "name": "stdout",
          "text": [
            "46.8\n",
            "1.8\n",
            "9.0\n",
            "100.0\n",
            "0.1999999999999975\n"
          ]
        }
      ]
    },
    {
      "cell_type": "code",
      "source": [
        "print(\"降水確率\" + str(50) + \"%\")"
      ],
      "metadata": {
        "colab": {
          "base_uri": "https://localhost:8080/"
        },
        "id": "oZMf8A278ZF_",
        "outputId": "1f222c14-6fa3-49d0-df5a-2e3615c2164e"
      },
      "execution_count": null,
      "outputs": [
        {
          "output_type": "stream",
          "name": "stdout",
          "text": [
            "降水確率50%\n"
          ]
        }
      ]
    },
    {
      "cell_type": "code",
      "source": [
        "user_name = \"侍太郎\"\n",
        "print(user_name)\n",
        "\n",
        "user_name = \"侍花子\"\n",
        "print(user_name)"
      ],
      "metadata": {
        "colab": {
          "base_uri": "https://localhost:8080/"
        },
        "id": "WrAHtHgK9nw2",
        "outputId": "1861fc56-ef32-45fe-d63f-ef93643cd692"
      },
      "execution_count": null,
      "outputs": [
        {
          "output_type": "stream",
          "name": "stdout",
          "text": [
            "侍太郎\n",
            "侍花子\n"
          ]
        }
      ]
    },
    {
      "cell_type": "code",
      "source": [
        "number1 = 5\n",
        "number2 = 2.5\n",
        "print(number1 + number2)\n",
        "\n",
        "last_name = \"侍\"\n",
        "first_name = \"太郎\"\n",
        "print(last_name + first_name)"
      ],
      "metadata": {
        "colab": {
          "base_uri": "https://localhost:8080/"
        },
        "id": "W3SarEXE-Fyo",
        "outputId": "b624990c-1455-4217-d7bc-5f291d4df742"
      },
      "execution_count": null,
      "outputs": [
        {
          "output_type": "stream",
          "name": "stdout",
          "text": [
            "7.5\n",
            "侍太郎\n"
          ]
        }
      ]
    },
    {
      "cell_type": "code",
      "source": [
        "last_name = \"侍\"\n",
        "first_name = \"太郎\"\n",
        "sister_name = \"花子\"\n",
        "\n",
        "print(f\"私の名前は{last_name}です。{first_name}です。\")"
      ],
      "metadata": {
        "colab": {
          "base_uri": "https://localhost:8080/"
        },
        "id": "7qT0dk04_Xw2",
        "outputId": "6e63a045-6705-49e0-98c8-1d47ce8f7adf"
      },
      "execution_count": null,
      "outputs": [
        {
          "output_type": "stream",
          "name": "stdout",
          "text": [
            "私の名前は侍です。太郎です。\n"
          ]
        }
      ]
    },
    {
      "cell_type": "code",
      "source": [
        "top = 10  # cm\n",
        "bottom = 20  # cm\n",
        "height = 5  # cm\n",
        "\n",
        "area = (top + bottom) * height / 2\n",
        "\n",
        "print(f\"{area}cm²\")"
      ],
      "metadata": {
        "id": "dvo7rfUI-UJs",
        "colab": {
          "base_uri": "https://localhost:8080/"
        },
        "outputId": "f0d80a58-4e8b-4ee2-fa5e-8225ec6c7bce"
      },
      "execution_count": null,
      "outputs": [
        {
          "output_type": "stream",
          "name": "stdout",
          "text": [
            "75.0cm²\n"
          ]
        }
      ]
    },
    {
      "cell_type": "code",
      "source": [
        "class Human:\n",
        "    def __init__(self, name, age):\n",
        "        self.name = name\n",
        "        self.age = age\n",
        "\n",
        "    def printinfo(self):\n",
        "\n",
        "        print(f\"名前: {self.name}, 年齢: {self.age}\")\n",
        "\n",
        "person = Human(\"太郎\", 20)\n",
        "\n",
        "person.printinfo()"
      ],
      "metadata": {
        "colab": {
          "base_uri": "https://localhost:8080/"
        },
        "id": "YeiqdMkJeS0U",
        "outputId": "88c3a5fc-ba9a-442f-f841-7b7ec995b7a1"
      },
      "execution_count": null,
      "outputs": [
        {
          "output_type": "stream",
          "name": "stdout",
          "text": [
            "名前: 太郎, 年齢: 20\n"
          ]
        }
      ]
    },
    {
      "cell_type": "code",
      "source": [
        "!rm /etc/localtime\n",
        "!ln -s /usr/share/zoneinfo/Asia/Tokyo /etc/localtime\n",
        "!date"
      ],
      "metadata": {
        "colab": {
          "base_uri": "https://localhost:8080/"
        },
        "id": "BIhaqTykftFh",
        "outputId": "d4454c18-f7c5-4543-e14f-f16b7e0b963c"
      },
      "execution_count": null,
      "outputs": [
        {
          "output_type": "stream",
          "name": "stdout",
          "text": [
            "Sun Aug 17 07:08:31 PM JST 2025\n"
          ]
        }
      ]
    },
    {
      "cell_type": "code",
      "source": [
        "# timeモジュールをインポート\n",
        "import time\n",
        "\n",
        "# 現在の日時を指定したフォーマットで出力する\n",
        "print(time.strftime(\"%Y年%m月%d日%H時%M分%S秒\", time.localtime()))"
      ],
      "metadata": {
        "colab": {
          "base_uri": "https://localhost:8080/"
        },
        "id": "_9t1yIeDgRU6",
        "outputId": "d8312aca-6fb8-434f-ffe9-a338c78d8d4d"
      },
      "execution_count": null,
      "outputs": [
        {
          "output_type": "stream",
          "name": "stdout",
          "text": [
            "2025年08月17日19時09分21秒\n"
          ]
        }
      ]
    },
    {
      "cell_type": "code",
      "source": [
        "# timeモジュールをインポート\n",
        "import time\n",
        "\n",
        "# 現在時刻をUNIXタイムスタンプで取得\n",
        "print(time.time())"
      ],
      "metadata": {
        "colab": {
          "base_uri": "https://localhost:8080/"
        },
        "id": "6WfhbIeYgdVn",
        "outputId": "c640964b-6d15-4705-d9b7-ac6cd613c7a8"
      },
      "execution_count": null,
      "outputs": [
        {
          "output_type": "stream",
          "name": "stdout",
          "text": [
            "1755425397.7706296\n"
          ]
        }
      ]
    },
    {
      "cell_type": "code",
      "source": [
        "# datetimeモジュールをインポート\n",
        "import datetime\n",
        "\n",
        "# 指定した日時を取得する\n",
        "date_time = datetime.datetime.strptime(\"2015-03-19 12:15:30\", \"%Y-%m-%d %H:%M:%S\")\n",
        "\n",
        "# 取得した日付date_timeの日時を特定のフォーマットで出力する\n",
        "print(date_time.strftime(\"%Y年%m月%d日%H時%M分%S秒\"))"
      ],
      "metadata": {
        "colab": {
          "base_uri": "https://localhost:8080/"
        },
        "id": "cW6qRVMcgrip",
        "outputId": "70b34139-ff54-4e20-ff72-c50fbf98a338"
      },
      "execution_count": null,
      "outputs": [
        {
          "output_type": "stream",
          "name": "stdout",
          "text": [
            "2015年03月19日12時15分30秒\n"
          ]
        }
      ]
    },
    {
      "cell_type": "code",
      "source": [
        "# datetimeモジュールをインポート\n",
        "import datetime\n",
        "\n",
        "# 指定した日時を取得する\n",
        "date_time = datetime.datetime.strptime(\"2015-03-19 12:15:30\", \"%Y-%m-%d %H:%M:%S\")\n",
        "\n",
        "print(date_time)\n",
        "\n",
        "# 年,月,日,時,分,秒だけをそれぞれ取り出すことも可能です\n",
        "print(date_time.year)\n",
        "print(date_time.month)\n",
        "print(date_time.day)\n",
        "print(date_time.hour)\n",
        "print(date_time.minute)\n",
        "print(date_time.second)"
      ],
      "metadata": {
        "colab": {
          "base_uri": "https://localhost:8080/"
        },
        "id": "DojbOSQOg0K-",
        "outputId": "e8477f60-aa94-40d7-b697-a7a4b12c7022"
      },
      "execution_count": null,
      "outputs": [
        {
          "output_type": "stream",
          "name": "stdout",
          "text": [
            "2015-03-19 12:15:30\n",
            "2015\n",
            "3\n",
            "19\n",
            "12\n",
            "15\n",
            "30\n"
          ]
        }
      ]
    },
    {
      "cell_type": "code",
      "source": [
        "# datetimeモジュールをインポート\n",
        "import datetime\n",
        "\n",
        "# 現在時刻を取得する\n",
        "now = datetime.datetime.now()\n",
        "\n",
        "# 指定した日時を取得する\n",
        "date_time = datetime.datetime.strptime(\"2015-03-19 12:15:30\", \"%Y-%m-%d %H:%M:%S\")\n",
        "\n",
        "# 2つのdatetimeの差を取得し、変数intervalに代入する（interval＝間隔）\n",
        "interval = now - date_time\n",
        "\n",
        "# 取得した日時の差を特定のフォーマットで出力する\n",
        "print(f\"総日数は{interval.days}日です。\")"
      ],
      "metadata": {
        "colab": {
          "base_uri": "https://localhost:8080/"
        },
        "id": "6jLfy2Zqg7ap",
        "outputId": "34024be1-252c-49bb-8259-de57e561cb4f"
      },
      "execution_count": null,
      "outputs": [
        {
          "output_type": "stream",
          "name": "stdout",
          "text": [
            "総日数は3804日です。\n"
          ]
        }
      ]
    },
    {
      "cell_type": "code",
      "source": [
        "# datetimeモジュールをインポート\n",
        "import datetime\n",
        "\n",
        "# 現在時刻を取得する\n",
        "now = datetime.datetime.now()\n",
        "\n",
        "# 1年間の日数差を変数td_1yに代入する\n",
        "td_1y = datetime.timedelta(days=365)\n",
        "\n",
        "# 現在の日時に1年を加算し、変数addに代入する\n",
        "add = now + td_1y\n",
        "\n",
        "# 3日間の日数差を変数td_3dに代入する\n",
        "td_3d = datetime.timedelta(days=3)\n",
        "\n",
        "# 現在の日時から3日を減算し、変数subに代入する（sub＝「減算」を意味するsubtractionの略）\n",
        "sub = now - td_3d\n",
        "\n",
        "# 加算・減算した日時を特定のフォーマットで出力する\n",
        "print(add.strftime(\"現在から1年後は%Y年%m月%d日%H時%M分%S秒です。\"))\n",
        "print(sub.strftime(\"現在から3日前は%Y年%m月%d日%H時%M分%S秒です。\"))"
      ],
      "metadata": {
        "id": "BoQojwyahDQu",
        "outputId": "17ad0f25-5d28-4ae3-8c8d-bfcd6239074e",
        "colab": {
          "base_uri": "https://localhost:8080/"
        }
      },
      "execution_count": null,
      "outputs": [
        {
          "output_type": "stream",
          "name": "stdout",
          "text": [
            "現在から1年後は2026年08月17日19時12分33秒です。\n",
            "現在から3日前は2025年08月14日19時12分33秒です。\n"
          ]
        }
      ]
    },
    {
      "cell_type": "code",
      "source": [
        "pip install Django"
      ],
      "metadata": {
        "colab": {
          "base_uri": "https://localhost:8080/"
        },
        "id": "Z6PmwK9tpXIL",
        "outputId": "36f29049-786f-4a48-c503-8fc7a129e11e"
      },
      "execution_count": 1,
      "outputs": [
        {
          "output_type": "stream",
          "name": "stdout",
          "text": [
            "Collecting Django\n",
            "  Downloading django-5.2.5-py3-none-any.whl.metadata (4.1 kB)\n",
            "Collecting asgiref>=3.8.1 (from Django)\n",
            "  Downloading asgiref-3.9.1-py3-none-any.whl.metadata (9.3 kB)\n",
            "Requirement already satisfied: sqlparse>=0.3.1 in /usr/local/lib/python3.11/dist-packages (from Django) (0.5.3)\n",
            "Downloading django-5.2.5-py3-none-any.whl (8.3 MB)\n",
            "\u001b[2K   \u001b[90m━━━━━━━━━━━━━━━━━━━━━━━━━━━━━━━━━━━━━━━━\u001b[0m \u001b[32m8.3/8.3 MB\u001b[0m \u001b[31m58.0 MB/s\u001b[0m eta \u001b[36m0:00:00\u001b[0m\n",
            "\u001b[?25hDownloading asgiref-3.9.1-py3-none-any.whl (23 kB)\n",
            "Installing collected packages: asgiref, Django\n",
            "Successfully installed Django-5.2.5 asgiref-3.9.1\n"
          ]
        }
      ]
    },
    {
      "cell_type": "code",
      "source": [
        "import django\n",
        "print(django.get_version())\n",
        "# 3.0.6"
      ],
      "metadata": {
        "colab": {
          "base_uri": "https://localhost:8080/"
        },
        "id": "sOqntNp6pjKQ",
        "outputId": "6242170b-0283-427c-dcc9-c4ef4c930ebe"
      },
      "execution_count": 2,
      "outputs": [
        {
          "output_type": "stream",
          "name": "stdout",
          "text": [
            "5.2.5\n"
          ]
        }
      ]
    },
    {
      "cell_type": "code",
      "source": [
        "class Human:\n",
        "    def __init__(self, name, age):\n",
        "        self.name = name\n",
        "        self.age = age\n",
        "\n",
        "    def check_adult(self):\n",
        "        if self.age >= 20:\n",
        "            print(f\"{self.name}（{self.age}歳）は大人です。\")\n",
        "        else:\n",
        "            print(f\"{self.name}（{self.age}歳）は大人ではありません。\")\n",
        "\n",
        "humans = [\n",
        "    Human(\"一\", 18),\n",
        "    Human(\"二\", 22),\n",
        "    Human(\"三\", 30),\n",
        "    Human(\"四\", 15)\n",
        "]\n",
        "\n",
        "for human in humans:\n",
        "    human.check_adult()"
      ],
      "metadata": {
        "colab": {
          "base_uri": "https://localhost:8080/"
        },
        "id": "zS5qFo1vp_ZT",
        "outputId": "db7db0c9-0beb-4c10-ea84-a9352677c8df"
      },
      "execution_count": 3,
      "outputs": [
        {
          "output_type": "stream",
          "name": "stdout",
          "text": [
            "一（18歳）は大人ではありません。\n",
            "二（22歳）は大人です。\n",
            "三（30歳）は大人です。\n",
            "四（15歳）は大人ではありません。\n"
          ]
        }
      ]
    }
  ]
}