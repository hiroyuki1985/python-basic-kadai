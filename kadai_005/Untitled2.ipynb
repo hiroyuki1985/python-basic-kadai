{
  "nbformat": 4,
  "nbformat_minor": 0,
  "metadata": {
    "colab": {
      "provenance": []
    },
    "kernelspec": {
      "name": "python3",
      "display_name": "Python 3"
    },
    "language_info": {
      "name": "python"
    }
  },
  "cells": [
    {
      "cell_type": "code",
      "execution_count": 1,
      "metadata": {
        "colab": {
          "base_uri": "https://localhost:8080/"
        },
        "id": "SezpX3jO42-h",
        "outputId": "aee9633e-c460-4911-d718-615f4503fe80"
      },
      "outputs": [
        {
          "output_type": "stream",
          "name": "stdout",
          "text": [
            "75.0cm²\n"
          ]
        }
      ],
      "source": [
        "top = 10  # cm\n",
        "bottom = 20  # cm\n",
        "height = 5  # cm\n",
        "\n",
        "area = (top + bottom) * height / 2\n",
        "\n",
        "print(f\"{area}cm²\")"
      ]
    }
  ]
}